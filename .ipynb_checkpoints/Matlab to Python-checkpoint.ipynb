{
 "cells": [
  {
   "cell_type": "markdown",
   "metadata": {},
   "source": [
    "# Importing Matlab files into Python"
   ]
  },
  {
   "cell_type": "markdown",
   "metadata": {},
   "source": [
    "Matlab is very popular in the  engineering/science/academic world (I used all Matlab for my PhD thesis in Oceanography). However, it is also expensive and not open-source, so as a data scientist you probably will want to be able to work with the data in Python. In this notebook, i'll show how to import Matlab data files (.mat) into python. I learned this from the 'Importing Data Into Python' course on Datacamp (<https://www.datacamp.com/courses/importing-data-in-python-part-1>), taught by Hugo Bowne-Anderson."
   ]
  },
  {
   "cell_type": "code",
   "execution_count": null,
   "metadata": {
    "collapsed": true
   },
   "outputs": [],
   "source": []
  },
  {
   "cell_type": "markdown",
   "metadata": {},
   "source": [
    "The .mat file is imported into Python as a dictionary structure. The keys of the dictionary are the variables in the .mat file."
   ]
  },
  {
   "cell_type": "code",
   "execution_count": null,
   "metadata": {
    "collapsed": true
   },
   "outputs": [],
   "source": []
  }
 ],
 "metadata": {
  "kernelspec": {
   "display_name": "Python 2",
   "language": "python",
   "name": "python2"
  },
  "language_info": {
   "codemirror_mode": {
    "name": "ipython",
    "version": 2
   },
   "file_extension": ".py",
   "mimetype": "text/x-python",
   "name": "python",
   "nbconvert_exporter": "python",
   "pygments_lexer": "ipython2",
   "version": "2.7.12"
  }
 },
 "nbformat": 4,
 "nbformat_minor": 0
}
